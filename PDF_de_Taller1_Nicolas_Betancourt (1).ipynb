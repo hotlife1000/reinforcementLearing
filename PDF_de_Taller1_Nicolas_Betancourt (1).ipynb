{
  "nbformat": 4,
  "nbformat_minor": 0,
  "metadata": {
    "kernelspec": {
      "display_name": "Python 3",
      "language": "python",
      "name": "python3"
    },
    "language_info": {
      "codemirror_mode": {
        "name": "ipython",
        "version": 3
      },
      "file_extension": ".py",
      "mimetype": "text/x-python",
      "name": "python",
      "nbconvert_exporter": "python",
      "pygments_lexer": "ipython3",
      "version": "3.7.6"
    },
    "toc": {
      "base_numbering": 1,
      "nav_menu": {},
      "number_sections": true,
      "sideBar": true,
      "skip_h1_title": false,
      "title_cell": "Table of Contents",
      "title_sidebar": "Contents",
      "toc_cell": false,
      "toc_position": {},
      "toc_section_display": true,
      "toc_window_display": false
    },
    "colab": {
      "name": "PDF de Taller1_Nicolas_Betancourt.ipynb",
      "provenance": [],
      "collapsed_sections": []
    }
  },
  "cells": [
    {
      "cell_type": "code",
      "metadata": {
        "ExecuteTime": {
          "end_time": "2021-02-28T21:35:37.222375Z",
          "start_time": "2021-02-28T21:35:36.033951Z"
        },
        "id": "V5MBE7cV2FrX"
      },
      "source": [
        "import numpy as np\n",
        "from scipy import stats\n",
        "from scipy.stats import poisson\n",
        "import matplotlib.pyplot as plt\n",
        "from scipy.special import factorial\n",
        "from numpy.random import normal\n",
        "from scipy.linalg import norm\n",
        "from itertools import product"
      ],
      "execution_count": null,
      "outputs": []
    },
    {
      "cell_type": "markdown",
      "metadata": {
        "id": "1HOv7NnH2Frd"
      },
      "source": [
        "# Taller 1 \n",
        "Nicolás Betancourt\n",
        "\n",
        "\n",
        "\n",
        "Optimización estocástica"
      ]
    },
    {
      "cell_type": "markdown",
      "metadata": {
        "id": "ChdriJgQ2Fre"
      },
      "source": [
        "## Introducción al problema"
      ]
    },
    {
      "cell_type": "markdown",
      "metadata": {
        "id": "iQg8yBx72Frf"
      },
      "source": [
        "Se quiere diseñar un proceso de abastecimiento mensual de unidades de determinado bien, de forma que se maximicen las ganancias después de costos operativos. Para esto estableceremos la siguiente notación: \n",
        "\n",
        "Al inicio de cada mes $t\\in\\{1,2,\\cdots\\}$ se tiene un nivel de inventario aleatoreo \n",
        "$$S_t\\in S:=\\{0,\\cdots,M\\}$$\n",
        "ante el cual debemos tomar la decisión de cuántas unidades  $$a_t\\in\\mathcal{A}(S_t):= \\{0,1,\\cdots,M-S_t\\}$$ de inventario adquirir.\n",
        "\n",
        "Como queremos satisfacer la demanda $D_t$ de este bien en el mes $t$, podemos asumir que las unidades en inventario al siguiente mes están dadas por \n",
        "$$S_{t+1}=\\max\\{0,S_t+a_t-D_t\\}.$$\n",
        "Para hablar de ganancias y costos operativos, sean $K$ los costos fijos y $c(u)$ los costos variables de adquirir $u$ unidades del bien. De esta forma, el valor del costo de ordenar $u$ unidades de producto va a estar dado por \n",
        "$$O(u):=\\begin{cases}K+c(u)&u>0\\\\0&u=0\\end{cases}.$$\n",
        "Vamos a asumir que los únicos costos además de los de adquisición, son los de bodegaje (costo de mantener $u$ unidades de inventario en bodega) dados por $h(u)$. Finalmente, las ganancias por vender $j$ unidades son $f(j)$ si $j\\leq S_t+a_t$ y $f\\left(S_t+a_t\\right) $ de lo contrario.\n",
        "\n",
        "\n",
        "Así pues las ganacias después de costos operativos van a estar dadas por \n",
        "$$r_t(s,a,S_{t+1})=f(s+a-S_{t+1})-O(s)-h(s+a)$$\n",
        "que implica que \n",
        "\\begin{align}r_t(s,a):= &E[r_t(s,a,S_{t+1})]=E[f(s+a-S_{t+1})]-O(a)-h(s+a)\\\\\n",
        "                                            \\quad \\\\\n",
        "                &=\\sum_{k=0}^{\\infty}f(k)\\Pr(s+a+S_{t+1}=k)-O(a)-h(s+a)\\\\\n",
        "                \\quad \\\\\n",
        "                &=f(s+a)\\Pr\\left(S_{t+1}=0\\right)+\\sum_{j<s+a}f(j)\\Pr\\left(D_t=j\\right)-O(a)-h(s+a)\\\\\n",
        "                &=f(s+a)\\sum_{j\\geq s+a}\\Pr\\left(D_t=j\\right)+\\sum_{j<s+a}f(j)\\Pr\\left(D_t=j\\right)-O(a)-h(s+a)\\\\\n",
        "                &=f(s+a)\\Pr(D_t\\geq s+a) + \\sum_{j<s+a}f(j)\\Pr\\left(D_t=j\\right)-O(a)-h(s+a) \\\\\n",
        "                &=\\underbrace{f(s+a)(1-\\Pr(D_t\\leq s+a-1))+\\sum_{j<s+a}f(j)\\Pr\\left(D_t=j\\right)}_{F(s+a):=} -O(a)-h(s+a)\n",
        "                \\end{align}"
      ]
    },
    {
      "cell_type": "markdown",
      "metadata": {
        "id": "MmzfK5Jq2Frf"
      },
      "source": [
        "Con lo anterior ya tendríamos espacio de estados, acciones y recompensas. Para tener un proceso de decisión de Markov restaría tener solo las probabilidades de transición que van a estar dadas por\n",
        "$$\\Pr(j|s,a):=\\begin{cases}0 & j>s+a\\\\  \\Pr\\left(D_t=s+a-j\\right) &s+a\\geq j>0 \\\\  1-\\Pr\\left(D_t\\leq s+a-1\\right) & j=0 \\end{cases}$$"
      ]
    },
    {
      "cell_type": "markdown",
      "metadata": {
        "id": "jjsQvIQ02Frh"
      },
      "source": [
        "## Código y resultados numéricos"
      ]
    },
    {
      "cell_type": "markdown",
      "metadata": {
        "id": "DVv_jv1d2Frh"
      },
      "source": [
        "### Funciones básicas y variables globales que se necesitan para todos los puntos"
      ]
    },
    {
      "cell_type": "code",
      "metadata": {
        "ExecuteTime": {
          "end_time": "2021-02-28T21:35:37.232165Z",
          "start_time": "2021-02-28T21:35:37.223625Z"
        },
        "id": "mT5Ktpdk2Frh"
      },
      "source": [
        "punto='Primer punto' #Variable que creamos para no tener que cambiar la función c(u) para los distintos puntos\n",
        "K=2\n",
        "lmbda=0.9\n",
        "M=100\n",
        "#Ganancias\n",
        "def f(s):\n",
        "    return 10*s\n",
        "#Costo variable por orden\n",
        "def c(s):\n",
        "    if punto in ['Primer punto','Tercer punto']:\n",
        "        return 2*s\n",
        "    if punto=='Segundo punto':\n",
        "        return -0.01*s**2+3*s\n",
        "#Costo de bodegaje\n",
        "def h(s):\n",
        "    return s\n",
        "#Costo de orden\n",
        "def O(a):\n",
        "    v=K+c(a)\n",
        "    v[a==0]=0\n",
        "    return v\n",
        "#Recompensas\n",
        "#Para hacer más fácil la escritura de puntos a continuación\n",
        "#Voy a establecer que cuando a no es un estado admisible\n",
        "# i.e. s+a>M, entonces r(s,a)=-infty\n",
        "def r(s):\n",
        "  a=np.arange(M+1)\n",
        "  matriz=np.tril(np.array([np.arange(M+1)]*(M+1)), k=s-1)\n",
        "  F=f(s+a)*(1-poisson.cdf(s+a-1,10))+np.matmul(f(matriz), poisson.pmf(a,10))   \n",
        "  recompensa=F-O(a)-h(s+a)\n",
        "  recompensa[M-s+1:]=-np.inf\n",
        "  return recompensa\n",
        "#Probabilidades de transición\n",
        "def p(s):\n",
        "  p_s=np.tril(np.array([ poisson.pmf(s+a-np.arange(M+1),10) for a in range(M+1)]),k=s)\n",
        "  p_s[:,0]=1-poisson.cdf(s+np.arange(M+1)-1,10)\n",
        "  p_s[np.arange(M-s+1,M+1),:]=0\n",
        "  return p_s\n",
        "  "
      ],
      "execution_count": null,
      "outputs": []
    },
    {
      "cell_type": "markdown",
      "metadata": {
        "id": "uHWqFtOGr7AI"
      },
      "source": [
        "### Primer punto"
      ]
    },
    {
      "cell_type": "markdown",
      "metadata": {
        "id": "yRw9e1rs2Fri"
      },
      "source": [
        "Suponga que $\\lambda=0.9$, $M=100$ y que $D_t\\sim \\operatorname{Poisson}(10)$, $h(s)=s$, $K=2$, $f(s)=10s$ y $c(s)=2s$\n",
        "Encontrar la función de valor y la estrategia óptima usando "
      ]
    },
    {
      "cell_type": "markdown",
      "metadata": {
        "id": "FKCe_g2M2Fri"
      },
      "source": [
        "#### Iteración por valor"
      ]
    },
    {
      "cell_type": "markdown",
      "metadata": {
        "id": "g4JRVxZi2Frj"
      },
      "source": [
        "Antes vamos a hacer una justificación matemática del codigo a continuación. Necesitamos encontrar un punto fijo $v$ de \n",
        "$$ \\mathcal{L}v(s):=\\max_{a}\\{r(s,a)+\\lambda\\sum_{j=0}^M p(j|s,a)v(j)\\} $$\n",
        "\n",
        "Defina\n",
        "\n",
        "$$ P_{sa}:=\\begin{pmatrix} p(0|s,a)\\\\ p(1|s,a) \\\\ \\vdots \\\\ p(M|s,a) \\end{pmatrix} \\quad \\text{y} \\quad r_s:=\\begin{pmatrix} r(s,0)\\\\ r(s,1) \\\\ \\vdots \\\\ r(s,M) \\end{pmatrix}$$\n",
        "\n",
        "Si $P_s\\in \\mathbb{R}^{(M+1)\\times (M+1)}$ es la matriz cuya fila $a$ es $ P_{sa}$ entonces \n",
        "$$ \\mathcal{L}v(s)= \\max \\left( r(s)+\\lambda P_s v \\right) $$\n",
        "donde el máximo es tomado componente a componente. \n",
        "\n",
        "\n",
        "Finalmente, si defino $w_s:=r(s)+\\lambda P_s v$ y para una matriz $X$ defino $\\max X \\in \\mathbb{R}^{(M+1)\\times 1} $ como el máximo en cada fila, obtengo que \n",
        "\n",
        "\n",
        "$$ $$\n",
        "\n",
        "\n",
        "$$ \\mathcal{L}v=\\max \\begin{pmatrix} w_0^T \\\\ \\hline w_1^T \\\\ \\vdots \\\\ \\hline w_M^T  \\end{pmatrix} $$ \n",
        "\n",
        "\n",
        "Rercuerde que todo lo anterior tiene sentido porque establecimos\n",
        "\n",
        "$$p(j|s,a)=0 \\quad \\text{y} \\quad r(s,a)=-\\infty$$ \n",
        "\n",
        "para todo $a\\notin \\mathcal{A}(s)$ i.e. siempre que $ s+a>M$. \n"
      ]
    },
    {
      "cell_type": "code",
      "metadata": {
        "ExecuteTime": {
          "end_time": "2021-02-28T22:26:46.847287Z",
          "start_time": "2021-02-28T22:26:46.837820Z"
        },
        "id": "qwBs30lr2Frj"
      },
      "source": [
        "# Definimos la contracción a la cual le vamos a encontrar un casi punto fijo\n",
        "#L(v)=v\n",
        "# Acá v es un vector en R^M\n",
        "def L2(v):\n",
        "  v=v.reshape((M+1,1))\n",
        "  #Creamos una lista para almacenar los w_s\n",
        "  valoresMaximos=[]\n",
        "  for s in range(M+1):\n",
        "      r_s=r(s).reshape((M+1,1))\n",
        "      P_s=p(s)\n",
        "      valoresMaximos.append(float(max(r_s+lmbda*np.matmul(P_s,v))))\n",
        "\n",
        "  return np.array(valoresMaximos).reshape((M+1,1))"
      ],
      "execution_count": null,
      "outputs": []
    },
    {
      "cell_type": "code",
      "metadata": {
        "ExecuteTime": {
          "start_time": "2021-02-28T22:29:01.609Z"
        },
        "id": "jXau1PVb2Frj"
      },
      "source": [
        "    \n",
        "    \n",
        "#Elegimos un varEps pequeño\n",
        "varEps=10**-2\n",
        "#Se inicializa v0 en 0\n",
        "v_VI=np.zeros((M+1,1))\n",
        "#Iteramos hasta satisfacer el criterio de parada\n",
        "cont=0\n",
        "vectoresVI=[]\n",
        "v_VINext=L2(v_VI)\n",
        "while norm(v_VI-v_VINext,ord=np.inf)>=varEps*(1-lmbda)/(2*lmbda):\n",
        "  vectoresVI.append(v_VI)\n",
        "  cont+=1\n",
        "  v_VI=v_VINext\n",
        "  v_VINext=L2(v_VI)\n",
        "\n",
        "    "
      ],
      "execution_count": null,
      "outputs": []
    },
    {
      "cell_type": "code",
      "metadata": {
        "ExecuteTime": {
          "end_time": "2021-02-28T21:51:22.272958Z",
          "start_time": "2021-02-28T21:50:17.309782Z"
        },
        "id": "hmh_ZZRH2Frl",
        "colab": {
          "base_uri": "https://localhost:8080/",
          "height": 382
        },
        "outputId": "46c0e946-5016-430d-cdf1-d29e4312b35e"
      },
      "source": [
        "fig, ax = plt.subplots(figsize=(10,5))\n",
        "ax.set_title('Iteración por valor: Norma infinito de vn-v*',fontsize=20)\n",
        "ax.set_xlabel('n',fontsize=20)\n",
        "ax.set_ylabel('|| vn-v*||',fontsize=20)\n",
        "#ax.axhline(y=varEps*(1-lmbda)/(2*lmbda), c='red')\n",
        "#ax.legend(['Criterio de parada'])\n",
        "plt.plot([norm(v_VI-x,ord=np.inf) for x in vectoresVI])"
      ],
      "execution_count": null,
      "outputs": [
        {
          "output_type": "execute_result",
          "data": {
            "text/plain": [
              "[<matplotlib.lines.Line2D at 0x7f89e6916050>]"
            ]
          },
          "metadata": {
            "tags": []
          },
          "execution_count": 5
        },
        {
          "output_type": "display_data",
          "data": {
            "image/png": "[encoded data removed]",
            "text/plain": [
              "<Figure size 720x360 with 1 Axes>"
            ]
          },
          "metadata": {
            "tags": [],
            "needs_background": "light"
          }
        }
      ]
    },
    {
      "cell_type": "markdown",
      "metadata": {
        "id": "5yzhhZZ_-cG5"
      },
      "source": [
        "Utilizando el $v$ óptimo obtenido, conseguimos la regla de decisión $\\mu$ óptima  que va a dar lugar a la política estacionaria $\\pi=(\\mu,\\cdots,\\mu)$ óptima."
      ]
    },
    {
      "cell_type": "code",
      "metadata": {
        "ExecuteTime": {
          "end_time": "2021-02-28T22:03:18.559724Z",
          "start_time": "2021-02-28T22:02:10.698237Z"
        },
        "id": "egrCi7ka2Frm"
      },
      "source": [
        "mu_VI=np.zeros((M+1,1))\n",
        "for s in range(M+1):\n",
        "    #Diccionario en donde almacenamos {a: r(s,a)+ lambda sum p(j|s,a)v(j)}\n",
        "    valores=np.zeros(M+1)\n",
        "    r_s=r(s)\n",
        "    for a in range(M-s+1):\n",
        "        x=lmbda*p(s)[a]\n",
        "        #np.array([[p(j,s,a)] for j in range(M+1)])\n",
        "        valor=float(np.matmul(x.T,v_VI))\n",
        "        valores[a]=valor\n",
        "    #Obtener la llave (el a) del diccionario donde el valor fue máximo y \n",
        "    # almacenarlo en el vector mu2 en la entrada s\n",
        "    vector=r_s+valores\n",
        "    mu_VI[s][0]=np.argmax(vector)\n",
        "    #float(max(valores, key=valores.get))\n",
        "    "
      ],
      "execution_count": null,
      "outputs": []
    },
    {
      "cell_type": "markdown",
      "metadata": {
        "id": "mI42YPn5JDUy"
      },
      "source": [
        "Esta política estacionaria es de la forma\n",
        "$$\\mu(s)=\\begin{cases}\\Sigma-s & s<\\sigma \\\\ 0 & s\\geq \\sigma\\end{cases}$$\n",
        "tal como sucedía en el libro. En este caso"
      ]
    },
    {
      "cell_type": "code",
      "metadata": {
        "ExecuteTime": {
          "end_time": "2021-02-28T21:53:50.686919Z",
          "start_time": "2021-02-28T21:53:50.683205Z"
        },
        "id": "41V51rLJ2Frm",
        "colab": {
          "base_uri": "https://localhost:8080/"
        },
        "outputId": "0e737c88-59ee-4ad2-b0b2-6eb60fbe62bb"
      },
      "source": [
        "print('Sigma mayúscula es ', float(max(mu_VI)), ' y sigma minúscula es ', max(np.nonzero(mu_VI)[0]))"
      ],
      "execution_count": null,
      "outputs": [
        {
          "output_type": "stream",
          "text": [
            "Sigma mayúscula es  13.0  y sigma minúscula es  10\n"
          ],
          "name": "stdout"
        }
      ]
    },
    {
      "cell_type": "markdown",
      "metadata": {
        "ExecuteTime": {
          "end_time": "2021-02-27T23:50:35.793908Z",
          "start_time": "2021-02-27T23:50:35.791550Z"
        },
        "id": "lUWMi8M12Fro"
      },
      "source": [
        "#### Gauss-Seidel"
      ]
    },
    {
      "cell_type": "markdown",
      "metadata": {
        "id": "oklBPdt4axUF"
      },
      "source": [
        "Antes vamos a hacer una justificación matemática del codigo a continuación. En cada paso necesitamos calcular $v_{n+1}$ con la regla\n",
        "$$ v_{n+1}(s):=\\max_{a}\\left\\{r(s,a)+\\lambda\\left[\\sum_{j<s} p(j|s,a)v_{n+1}(j)+\\sum_{j\\geq s} p(j|s,a)v_{n}(j)\\right]\\right\\} $$\n",
        "\n",
        "Si en lo anterior a  $v_{n+1} $ lo inicializamos en cero y vamos actualizando sus entradas según la regla anterior, en el paso $s-$ésimo vamos a tener que $v_{n+1}(j)=0 $ para todo $j\\geq s $, de forma que, utilizando la notación del ejercicio anterior tendríamos\n",
        "\n",
        "$$ \\sum_{j<s} p(j|s,a)v_{n+1}(j) = \\langle P_{sa}, v_{n+1} \\rangle.$$\n",
        " \n",
        "\n",
        "Sea, por otro lado, $Q_s\\in \\mathbb{R}^{M\\times M}$ la matriz  resultante de reemplazar  las primeras $s-1$ filas de $P_s$ con ceros. Con todo esto tendríamos que \n",
        "\n",
        "$$ v_ {n+1}(s)= \\max \\left( r(s) + \\lambda\\left(  P_sv_{n+1} + Q_sv_n \\right) \\right) $$\n",
        "\n",
        "Y si $w_s:= r(s) + \\lambda\\left(  P_sv_{n+1} + Q_sv_n \\right)$, entonces \n",
        "\n",
        "$$ v_{n+1}= \\max \\begin{pmatrix} w_0^T \\\\ \\hline w_1^T \\\\ \\vdots \\\\ \\hline w_M^T \\end{pmatrix}$$\n",
        "\n",
        "\n",
        "\n"
      ]
    },
    {
      "cell_type": "code",
      "metadata": {
        "ExecuteTime": {
          "end_time": "2021-02-28T02:54:26.941105Z",
          "start_time": "2021-02-28T02:54:26.937419Z"
        },
        "id": "CODtviNB2Fro"
      },
      "source": [
        "#Función que reemplaza las primeras n filas de una matriz X por ceros\n",
        "def Q(X,n):\n",
        "  Y=X.copy()\n",
        "  Y[range(n),:]=np.zeros(Y.shape[1])\n",
        "  return Y\n",
        "#Función que recibe v_n y escupe v_n+1 como describimos antes\n",
        "def L_GS(v):\n",
        "  v=v.reshape((M+1,1))\n",
        "  #Inicializamos en cero porque lo prometido es deuda\n",
        "  vn=np.zeros((M+1,1))\n",
        "  #Creamos una lista para almacenar los w_s\n",
        "  outPut=[]\n",
        "  for s in range(M+1):\n",
        "      r_s=r(s).reshape((M+1,1))\n",
        "      P_s=p(s)\n",
        "      Q_s=Q(P_s,s-1)\n",
        "      w_s=r_s+lmbda*(np.matmul(P_s,vn)+np.matmul(Q_s,v))\n",
        "      outPut.append(max(w_s))\n",
        "  \n",
        "  return np.array(outPut).reshape((M+1,1))\n",
        "\n",
        "\n"
      ],
      "execution_count": null,
      "outputs": []
    },
    {
      "cell_type": "code",
      "metadata": {
        "ExecuteTime": {
          "end_time": "2021-02-28T03:15:40.087642Z",
          "start_time": "2021-02-28T03:15:40.082981Z"
        },
        "id": "jwPJIqC12Fro"
      },
      "source": [
        "#Se inicializa v0 en 0\n",
        "v_GS=np.zeros((M+1,1))\n",
        "#Iteramos hasta satisfacer el criterio de parada\n",
        "cont=0\n",
        "vectoresGS=[]\n",
        "v_GSNext=L_GS(v_GS)\n",
        "while norm(v_GS-v_GSNext,ord=np.inf)>=varEps*(1-lmbda)/(2*lmbda):\n",
        "  vectoresGS.append(v_GS)\n",
        "  cont+=1\n",
        "  #if cont%20==0:\n",
        "  #    print(cont)\n",
        "  v_GS=v_GSNext\n",
        "  v_GSNext=L_GS(v_GS)"
      ],
      "execution_count": null,
      "outputs": []
    },
    {
      "cell_type": "code",
      "metadata": {
        "colab": {
          "base_uri": "https://localhost:8080/",
          "height": 381
        },
        "id": "UQEYpGCy2Fro",
        "outputId": "8665892c-788f-4b79-92b2-8fe243f17686"
      },
      "source": [
        "fig, ax = plt.subplots(figsize=(10,5))\n",
        "ax.set_title('Gauss-Seidel: Norma infinito de vn-v*',fontsize=20)\n",
        "ax.set_xlabel('n',fontsize=20)\n",
        "ax.set_ylabel('|| vn-v*||',fontsize=20)\n",
        "#ax.axhline(y=varEps*(1-lmbda)/(2*lmbda), c='red')\n",
        "\n",
        "ax.plot([norm(v_GS-x,ord=np.inf) for x in vectoresGS],c='blue')\n",
        "ax.plot([norm(v_VI-x,ord=np.inf) for x in vectoresVI],c='red')\n",
        "ax.legend(['Gauss-Seidel','Iteración por Valor'])\n"
      ],
      "execution_count": null,
      "outputs": [
        {
          "output_type": "execute_result",
          "data": {
            "text/plain": [
              "<matplotlib.legend.Legend at 0x7f89e646ecd0>"
            ]
          },
          "metadata": {
            "tags": []
          },
          "execution_count": 10
        },
        {
          "output_type": "display_data",
          "data": {
            "image/png": "[encoded data removed]",
            "text/plain": [
              "<Figure size 720x360 with 1 Axes>"
            ]
          },
          "metadata": {
            "tags": [],
            "needs_background": "light"
          }
        }
      ]
    },
    {
      "cell_type": "markdown",
      "metadata": {
        "id": "lZCrp5nc2lYo"
      },
      "source": [
        "Utilizando el $v$ óptimo obtenido podemos calcular la política estacionaria óptima como sigue"
      ]
    },
    {
      "cell_type": "code",
      "metadata": {
        "id": "cUXBi7Mc2vT4"
      },
      "source": [
        "mu_GS=np.zeros((M+1,1))\n",
        "for s in range(M+1):\n",
        "    #Diccionario en donde almacenamos {a: r(s,a)+ lambda sum p(j|s,a)v(j)}\n",
        "    valores=np.zeros(M+1)\n",
        "    r_s=r(s)\n",
        "    for a in range(M-s+1):\n",
        "        x=lmbda*p(s)[a]\n",
        "        #np.array([[p(j,s,a)] for j in range(M+1)])\n",
        "        valor=float(np.matmul(x.T,v_GSNext))\n",
        "        valores[a]=valor\n",
        "    #Obtener la llave (el a) del diccionario donde el valor fue máximo y \n",
        "    # almacenarlo en el vector mu2 en la entrada s\n",
        "    vector=r_s+valores\n",
        "    mu_GS[s][0]=np.argmax(vector)\n",
        "    #float(max(valores, key=valores.get))\n",
        "    "
      ],
      "execution_count": null,
      "outputs": []
    },
    {
      "cell_type": "markdown",
      "metadata": {
        "id": "7NQvqZGS30U4"
      },
      "source": [
        "Esta política estacionaria es de la forma\n",
        "$$\\mu(s)=\\begin{cases}\\Sigma-s & s<\\sigma \\\\ 0 & s\\geq \\sigma\\end{cases}$$\n",
        "tal como sucedía en el libro. En este caso"
      ]
    },
    {
      "cell_type": "code",
      "metadata": {
        "colab": {
          "base_uri": "https://localhost:8080/"
        },
        "id": "QSoeqV9o3LFA",
        "outputId": "7ce73e29-0b29-436c-da2c-4647d51c3d30"
      },
      "source": [
        "print('Sigma mayúscula es ', max(mu_GS), ' y sigma minúscula es ', max(np.nonzero(mu_GS)[0]))\n"
      ],
      "execution_count": null,
      "outputs": [
        {
          "output_type": "stream",
          "text": [
            "Sigma mayúscula es  [12.]  y sigma minúscula es  10\n"
          ],
          "name": "stdout"
        }
      ]
    },
    {
      "cell_type": "markdown",
      "metadata": {
        "id": "oP8mVUSs2Frn"
      },
      "source": [
        "#### Jacobi"
      ]
    },
    {
      "cell_type": "markdown",
      "metadata": {
        "id": "bFK2_hE9qKRf"
      },
      "source": [
        "El spliting dado significa que $v^{n+1}$ es solución al sistema \n",
        "$$ v^{n+1}=r_a+\\lambda \\operatorname{Diag}(P_a)v^{n+1}+\\lambda P_a^Av^n$$\n",
        "donde $P_a$ está dada por $(P_a)_{s,j}=\\Pr(j|s,a)$, $\\operatorname{Diag}$ representa la diagonal y elevar a la $A$ significa todo lo de $A$fuera de la diagonal. Con lo anterior, las iteraciones serían\n",
        "\n",
        "$$ v^{n+1}(s)=\\max_a\\left\\{\\frac{1}{1-\\lambda\\Pr(s|s,a)}\\left[r(s,a)+\\lambda\\sum_{j\\neq s}\\Pr(j|s,a)v^n(j)\\right]\\right\\}$$\n",
        "\n",
        "\n",
        "\n"
      ]
    },
    {
      "cell_type": "code",
      "metadata": {
        "id": "KY4qNrElo04W"
      },
      "source": [
        "def L_J(v):\n",
        "  v=v.reshape((M+1,1))\n",
        "  outPut=[]\n",
        "  for s in range(M+1):\n",
        "    X=p(s)\n",
        "    Y=X.copy()\n",
        "    proba_ss=Y[:,s]\n",
        "    escalar=1/(1-lmbda*proba_ss)\n",
        "    escalar=escalar.reshape((M+1,1))\n",
        "    X[:,s]=0\n",
        "    r_s=r(s).reshape((M+1,1))\n",
        "    valor=float(np.max( escalar*(r_s+lmbda*np.matmul(X,v))))\n",
        "    if valor==np.nan or valor==np.inf:\n",
        "      print(s,valor)\n",
        "    outPut.append(valor)\n",
        "  return np.array(outPut).reshape((M+1,1))\n",
        "\n"
      ],
      "execution_count": null,
      "outputs": []
    },
    {
      "cell_type": "code",
      "metadata": {
        "id": "7HzgkSgjo47c"
      },
      "source": [
        "#Elegimos un varEps pequeño\n",
        "varEps=10**-2\n",
        "#Se inicializa v0 en 0\n",
        "v_J=np.zeros((M+1,1))\n",
        "#Iteramos hasta satisfacer el criterio de parada\n",
        "cont=0\n",
        "vectoresJ=[]\n",
        "v_JNext=L_J(v_J)\n",
        "while norm(v_J-v_JNext,ord=np.inf)>=varEps*(1-lmbda)/(2*lmbda):\n",
        "  vectoresJ.append(v_J)\n",
        "  cont+=1\n",
        "  v_J=v_JNext\n",
        "  v_JNext=L_J(v_J)"
      ],
      "execution_count": null,
      "outputs": []
    },
    {
      "cell_type": "markdown",
      "metadata": {
        "id": "H6KgEj_nuKKX"
      },
      "source": [
        "Utilizando el $v$ óptimo obtenido podemos calcular la política estacionaria óptima como sigue"
      ]
    },
    {
      "cell_type": "code",
      "metadata": {
        "id": "5REpoQ9RuKKY"
      },
      "source": [
        "mu_J=np.zeros((M+1,1))\n",
        "for s in range(M+1):\n",
        "    #Diccionario en donde almacenamos {a: r(s,a)+ lambda sum p(j|s,a)v(j)}\n",
        "    valores=np.zeros(M+1)\n",
        "    r_s=r(s)\n",
        "    for a in range(M-s+1):\n",
        "        x=lmbda*p(s)[a]\n",
        "        #np.array([[p(j,s,a)] for j in range(M+1)])\n",
        "        valor=float(np.matmul(x.T,v_JNext))\n",
        "        valores[a]=valor\n",
        "    #Obtener la llave (el a) del diccionario donde el valor fue máximo y \n",
        "    # almacenarlo en el vector mu2 en la entrada s\n",
        "    vector=r_s+valores\n",
        "    mu_J[s][0]=np.argmax(vector)\n",
        "    #float(max(valores, key=valores.get))\n",
        "    "
      ],
      "execution_count": null,
      "outputs": []
    },
    {
      "cell_type": "markdown",
      "metadata": {
        "id": "3jw65KcnuKKY"
      },
      "source": [
        "Esta política estacionaria es de la forma\n",
        "$$\\mu(s)=\\begin{cases}\\Sigma-s & s<\\sigma \\\\ 0 & s\\geq \\sigma\\end{cases}$$\n",
        "tal como sucedía en el libro. En este caso"
      ]
    },
    {
      "cell_type": "code",
      "metadata": {
        "colab": {
          "base_uri": "https://localhost:8080/"
        },
        "id": "2N9Gqux_uKKY",
        "outputId": "1c430814-5756-466d-dc2e-c633c00f0bb7"
      },
      "source": [
        "print('Sigma mayúscula es ', max(mu_J), ' y sigma minúscula es ', max(np.nonzero(mu_J)[0]))\n"
      ],
      "execution_count": null,
      "outputs": [
        {
          "output_type": "stream",
          "text": [
            "Sigma mayúscula es  [13.]  y sigma minúscula es  10\n"
          ],
          "name": "stdout"
        }
      ]
    },
    {
      "cell_type": "markdown",
      "metadata": {
        "id": "6jaHqNB0tKdh"
      },
      "source": [
        "#### Gráfica similar a 6.3.1"
      ]
    },
    {
      "cell_type": "code",
      "metadata": {
        "id": "1xTbJ4QltPZJ",
        "colab": {
          "base_uri": "https://localhost:8080/",
          "height": 364
        },
        "outputId": "d64f7469-9b0b-47a3-cd57-940bc0dd12eb"
      },
      "source": [
        "fig, ax = plt.subplots(figsize=(10,5))\n",
        "ax.set_title('Gráfica similar a 6.3.1: Norma infinito de vn-v*',fontsize=20)\n",
        "ax.set_xlabel('n',fontsize=20)\n",
        "ax.set_ylabel('|| vn-v*||',fontsize=20)\n",
        "ax.plot([norm(v_GS-x,ord=np.inf) for x in vectoresGS],c='blue')\n",
        "ax.plot([norm(v_VI-x,ord=np.inf) for x in vectoresVI],c='red')\n",
        "ax.plot([norm(v_J-x,ord=np.inf) for x in vectoresJ],c='green')\n",
        "ax.legend(['Gauss-Seidel','Iteración por Valor', 'Jacobi'])\n",
        "plt.show()"
      ],
      "execution_count": null,
      "outputs": [
        {
          "output_type": "display_data",
          "data": {
            "image/png": "[encoded data removed]",
            "text/plain": [
              "<Figure size 720x360 with 1 Axes>"
            ]
          },
          "metadata": {
            "tags": [],
            "needs_background": "light"
          }
        }
      ]
    },
    {
      "cell_type": "markdown",
      "metadata": {
        "id": "SzYEyByGtRms"
      },
      "source": [
        "### Segundo punto"
      ]
    },
    {
      "cell_type": "markdown",
      "metadata": {
        "id": "3wsEA1kUwi7p"
      },
      "source": [
        "Suponga que ahora $c(s)=-0.01s^2+3s$ y encuentre la función de valor y la estrategia óptimas usando el método que quiera. "
      ]
    },
    {
      "cell_type": "code",
      "metadata": {
        "id": "OFNze8CttTaJ"
      },
      "source": [
        "#Cambiamos la variable global punto para que el output de la funcióón c(s)\n",
        "#sea el solicitado\n",
        "punto='Segundo punto'\n",
        "#Se inicializa v0 en 0\n",
        "v_GS2=np.zeros((M+1,1))\n",
        "#Iteramos hasta satisfacer el criterio de parada\n",
        "cont=0\n",
        "#vectoresGS2=[]\n",
        "#Utilizaremos Gauss Seidel porque ha sido bueno con nosotros\n",
        "v_GS2Next=L_GS(v_GS2)\n",
        "while norm(v_GS2-v_GS2Next,ord=np.inf)>=varEps*(1-lmbda)/(2*lmbda):\n",
        "  v_GS2=v_GS2Next\n",
        "  v_GS2Next=L_GS(v_GS2)"
      ],
      "execution_count": null,
      "outputs": []
    },
    {
      "cell_type": "code",
      "metadata": {
        "id": "T0zVX-oBxdvH"
      },
      "source": [
        "mu_GS2=np.zeros((M+1,1))\n",
        "for s in range(M+1):\n",
        "    #Diccionario en donde almacenamos {a: r(s,a)+ lambda sum p(j|s,a)v(j)}\n",
        "    valores=np.zeros(M+1)\n",
        "    r_s=r(s)\n",
        "    for a in range(M-s+1):\n",
        "        x=lmbda*p(s)[a]\n",
        "        #np.array([[p(j,s,a)] for j in range(M+1)])\n",
        "        valor=float(np.matmul(x.T,v_GS2Next))\n",
        "        valores[a]=valor\n",
        "    #Obtener la llave (el a) del diccionario donde el valor fue máximo y \n",
        "    # almacenarlo en el vector mu2 en la entrada s\n",
        "    vector=r_s+valores\n",
        "    mu_GS2[s][0]=np.argmax(vector)\n",
        "    #float(max(valores, key=valores.get))"
      ],
      "execution_count": null,
      "outputs": []
    },
    {
      "cell_type": "markdown",
      "metadata": {
        "id": "qJxvY_Aa8sAj"
      },
      "source": [
        "Esta política estacionaria es de la forma\n",
        "$$\\mu(s)=\\begin{cases}\\Sigma-s & s<\\sigma \\\\ 0 & s\\geq \\sigma\\end{cases}$$\n",
        "tal como sucedía en el libro. En este caso"
      ]
    },
    {
      "cell_type": "code",
      "metadata": {
        "colab": {
          "base_uri": "https://localhost:8080/"
        },
        "id": "DLLUwobU8KrH",
        "outputId": "d828e39c-7325-4f19-9e4c-35a8650bd051"
      },
      "source": [
        "print('Sigma mayúscula es ', max(mu_GS2), ' y sigma minúscula es ', max(np.nonzero(mu_GS2)[0]))\n"
      ],
      "execution_count": null,
      "outputs": [
        {
          "output_type": "stream",
          "text": [
            "Sigma mayúscula es  [12.]  y sigma minúscula es  9\n"
          ],
          "name": "stdout"
        }
      ]
    },
    {
      "cell_type": "markdown",
      "metadata": {
        "id": "dPGaK9h5xJOk"
      },
      "source": [
        "Como $\\frac{s}{100}\\leq 1$ para todo $s\\in S$, entonces $\\frac{s^2}{100}<s$ de lo que se concluye que $ 3s-0.01s^2 \\geq 3s-s=2s$ para todo $s$. Esto quiere decir que en este escenario los costos operativos aumentan y por lo tanto el cabe esperar que el nivel mínimo de inventario sea se menor. Esto es preciamente lo que observamos en lo anterior."
      ]
    },
    {
      "cell_type": "markdown",
      "metadata": {
        "id": "bVu6keEztrix"
      },
      "source": [
        "### Tercer punto"
      ]
    },
    {
      "cell_type": "code",
      "metadata": {
        "id": "GIvMJgqRttZZ"
      },
      "source": [
        "punto='Tercer punto'\n",
        "#Se itera para lambda=0.95,0.85, 0.8, 0.75,..., 0.05\n",
        "#Se almacenan las políticas óptimas y los v_lmbda \n",
        "# en un diccionario con llave lmbda\n",
        "diccionario_mu={}\n",
        "diccionario_v={} \n",
        "for lmbda in np.arange(start=0.05,stop=0.95, step=0.05):\n",
        "  v_3=np.zeros((M+1,1))\n",
        "  #Iteramos con GS hasta satisfacer el criterio de parada\n",
        "  cont=0\n",
        "  v_3Next=L_J(v_3)  \n",
        "  while norm(v_3-v_3Next,ord=np.inf)>=varEps*(1-lmbda)/(2*lmbda):\n",
        "    v_3=v_3Next\n",
        "    v_3Next=L_J(v_3)\n",
        "  diccionario_v[lmbda]=v_3\n",
        "  \n",
        "  "
      ],
      "execution_count": null,
      "outputs": []
    },
    {
      "cell_type": "code",
      "metadata": {
        "id": "RFrAsL1quV1J"
      },
      "source": [
        "for lmbda in diccionario_v.keys():\n",
        "  mu_3=np.zeros((M+1,1))\n",
        "  v_3Next=diccionario_v[lmbda]\n",
        "  for s in range(M+1):\n",
        "    #Diccionario en donde almacenamos {a: r(s,a)+ lambda sum p(j|s,a)v(j)}\n",
        "    valores=np.zeros(M+1)\n",
        "    r_s=r(s)\n",
        "    for a in range(M-s+1):\n",
        "        x=lmbda*p(s)[a]\n",
        "        #np.array([[p(j,s,a)] for j in range(M+1)])\n",
        "        valor=float(np.matmul(x.T,v_3Next))\n",
        "        valores[a]=valor\n",
        "    #Obtener la llave (el a) del diccionario donde el valor fue máximo y \n",
        "    # almacenarlo en el vector mu2 en la entrada s\n",
        "    vector=r_s+valores\n",
        "    mu_3[s][0]=np.argmax(vector)\n",
        "    #float(max(valores, key=valores.get))\n",
        "  diccionario_mu[lmbda]=mu_3"
      ],
      "execution_count": null,
      "outputs": []
    },
    {
      "cell_type": "markdown",
      "metadata": {
        "id": "17AlMMH4L2Dn"
      },
      "source": [
        "Vamos a comparar las políticas resultantes mirando los niveles máximo y mínimo de inventario $\\Sigma(\\lambda)$ y $\\sigma(\\lambda)$ para cada $\\lambda$"
      ]
    },
    {
      "cell_type": "code",
      "metadata": {
        "id": "rXbdYYj-tw3l"
      },
      "source": [
        "SigmaGrande=[]\n",
        "sigmaChiquito=[]\n",
        "for lmbda in diccionario_mu.keys():\n",
        "  mu_lmbda=diccionario_mu[lmbda]\n",
        "  SigmaGrande.append(max(mu_lmbda))\n",
        "  sigmaChiquito.append(max(np.nonzero(mu_lmbda)[0]))\n",
        "  "
      ],
      "execution_count": null,
      "outputs": []
    },
    {
      "cell_type": "code",
      "metadata": {
        "id": "XEzggdsr9oKT",
        "colab": {
          "base_uri": "https://localhost:8080/",
          "height": 367
        },
        "outputId": "76d42b9e-8b8d-4b3e-ab15-fd7c93142faf"
      },
      "source": [
        "fig, ax = plt.subplots(figsize=(10,5))\n",
        "#ax.set_title('Gauss-Seidel: Norma infinito de vn-v*',fontsize=20)\n",
        "#ax.set_xlabel('n',fontsize=20)\n",
        "#ax.set_ylabel('|| vn-v*||',fontsize=20)\n",
        "#ax.axhline(y=varEps*(1-lmbda)/(2*lmbda), c='red')\n",
        "\n",
        "ax.plot(np.arange(start=0.05,stop=0.95, step=0.05), SigmaGrande,c='blue')\n",
        "ax.plot(np.arange(start=0.05,stop=0.95, step=0.05), sigmaChiquito,c='red')\n",
        "ax.set_xlabel('lambda')\n",
        "ax.set_title('Variación de políticas respecto a lambda')\n",
        "ax.legend(['Nivel máximo de inventario','Nivel mínimo de inventario'])"
      ],
      "execution_count": null,
      "outputs": [
        {
          "output_type": "execute_result",
          "data": {
            "text/plain": [
              "<matplotlib.legend.Legend at 0x7f89e62f9c10>"
            ]
          },
          "metadata": {
            "tags": []
          },
          "execution_count": 24
        },
        {
          "output_type": "display_data",
          "data": {
            "image/png": "[encoded data removed]",
            "text/plain": [
              "<Figure size 720x360 with 1 Axes>"
            ]
          },
          "metadata": {
            "tags": [],
            "needs_background": "light"
          }
        }
      ]
    },
    {
      "cell_type": "markdown",
      "metadata": {
        "id": "FscwQYyXpm4S"
      },
      "source": [
        "Cuando $\\lambda \\to 1$ sabemos que $V_\\lambda$ y $\\mu_{V_{\\lambda}}$ tienen a los verdaderos valores y políticas óptimas. \n",
        "Hemos además comprobado numéricamente  que una política estacionaria $\\mu$ que soluciona nuestro problema tiene la forma\n",
        "\n",
        "$$\\mu(s)=\\begin{cases}\\Sigma-s & s<\\sigma \\\\ 0 & s\\geq \\sigma\\end{cases}$$\n",
        "tal como sucedía en el libro. En este caso\n",
        "\n",
        "De esta forma, al tomar valores de $\\lambda$ cercanos a 1 vamos a obtener valores de $\\Sigma(\\lambda)$ y $\\sigma(\\lambda)$ cada vez más fieles a los niveles de inventario mínimo y máximo óptimos. Basados en la gráfica anterior estos niveles serían\n",
        "\n",
        "\n"
      ]
    },
    {
      "cell_type": "code",
      "metadata": {
        "id": "SivlBIMULrGw",
        "colab": {
          "base_uri": "https://localhost:8080/"
        },
        "outputId": "996d8da3-5c01-46af-a8d8-24f6164d4339"
      },
      "source": [
        "print('Sigma grande óptimo=', SigmaGrande[-1])\n",
        "print('Sigma chiquito óptimo=', sigmaChiquito[-1])\n"
      ],
      "execution_count": null,
      "outputs": [
        {
          "output_type": "stream",
          "text": [
            "Sigma grande óptimo= [13.]\n",
            "Sigma chiquito óptimo= 10\n"
          ],
          "name": "stdout"
        }
      ]
    },
    {
      "cell_type": "markdown",
      "metadata": {
        "id": "dfW4KaGH8ejk"
      },
      "source": [
        "# Conclusiones"
      ]
    },
    {
      "cell_type": "markdown",
      "metadata": {
        "id": "-JhomIvz8oHQ"
      },
      "source": [
        "Además de lo que ya se ha concluido puntualmente en los ejercicios se me ocurren las siguientes conclusiones\n",
        "\n",
        "\n",
        "1. El $\\sigma$ óptimo siempre era cercano o mayor a la media de la demanda (10 en este caso de $\\operatorname{Poisson}(10)$), yo creería que de forma más general podríamos decir que la política óptima va a involucrar tener al menos suficiente inventario para satisfacer la demanda promedio.\n",
        "2. Cuando cambiamos la función de costo unitario $c(u)$ por una más costosa, el cambio no fue tan dramático, esto puede deberse a que la diferencia entre una función y la otra era pequeña o a que el modelo no es tan sensible a cambios en este parámetro.\n",
        "3. Para valores de $\\lambda<1 $ pequeños el modelo es muy desacertado pues  $\\sigma(\\lambda) $  son menores a la media de la demanda.  Después de cierto $\\lambda$ no tan grande ($\\lambda=0.6$ como se puede ver en la gráfica del último punto)la solución se estabiliza  y es igual a la solución con $\\lambda$ muy cercano a 1.\n",
        "4.  Si bien Jacobi y Gauss Seidel requirieron menos iteraciones como se puede ver en la última gráfica del primer punto, el método que menos segundos tomó (200) fue iteración por valor. Esto me hace pensar que las iteraciones son menos pero más costosas en los otros dos métodos que se demoraron más de 500 segundos.\n",
        "5. Para correr la tarea utilicé $M$ más pequeños que 100, y a partir de 20 las soluciones todas eran las mismas. Eso quiere decir que al final el modelo no es sensible a ese parámetro sino más bien a la demanda. De hecho, yo conjeturaría que para todo $M$ mayor a la media de la demanda, la solución es la misma.\n",
        "6. He hablado mucho de $\\sigma$. Yo creo que los costos y todo eso son los que determinan que inventario máximo $\\Sigma$ tengo, como se pudo ver en el segundo punto. Esto tiene sentido pues si no hubiera costos de bodegaje ni adquisición, pues tendría un inventario arbitrariamente grande para satisfacer cualquier eventual demanda. \n",
        "\n"
      ]
    }
  ]
}